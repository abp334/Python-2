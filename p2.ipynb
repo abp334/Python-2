{
 "cells": [
  {
   "cell_type": "code",
   "execution_count": 5,
   "metadata": {
    "scrolled": false
   },
   "outputs": [
    {
     "name": "stdout",
     "output_type": "stream",
     "text": [
      "   length  breadth    type\n",
      "0      18       20     Big\n",
      "1      20       20     Big\n",
      "2      10       10  Normal\n",
      "3      12       11  Normal\n",
      "4      18       19     Big\n",
      "5      11       10  Normal\n",
      "   length  breadth    type  Area\n",
      "0      18       20     Big   360\n",
      "1      20       20     Big   400\n",
      "2      10       10  Normal   100\n",
      "3      12       11  Normal   132\n",
      "4      18       19     Big   342\n",
      "5      11       10  Normal   110\n",
      "   length  breadth  Area  type_Big  type_Normal\n",
      "0      18       20   360         1            0\n",
      "1      20       20   400         1            0\n",
      "2      10       10   100         0            1\n",
      "3      12       11   132         0            1\n",
      "4      18       19   342         1            0\n",
      "5      11       10   110         0            1\n"
     ]
    }
   ],
   "source": [
    "#Machine learning with python ch-4,5,6\n",
    "#ML has 2 types supervised and unsupervised\n",
    "# supervised has : regression,knn,decision tree,random forest,Neural network\n",
    "#unsupervised\n",
    "#Feature engineering\n",
    "#Adding a new feature\n",
    "import pandas as pd\n",
    "room_length = [18,20,10,12,18,11]\n",
    "room_breadth = [20,20,10,11,19,10]\n",
    "room_type = ['Big','Big','Normal','Normal','Big','Normal']\n",
    "data = pd.DataFrame({'length':room_length,'breadth':room_breadth,'type':room_type})\n",
    "print(data)\n",
    "data['Area'] = data['length']*data['breadth']\n",
    "print(data)\n",
    "#feature transformation\n",
    "df = pd.get_dummies(data) #categorial(object) to numeric\n",
    "print(df)\n"
   ]
  },
  {
   "cell_type": "code",
   "execution_count": 6,
   "metadata": {},
   "outputs": [
    {
     "name": "stdout",
     "output_type": "stream",
     "text": [
      "   Area    Price\n",
      "0  4720  2360000\n",
      "1  2430  1215000\n",
      "2  4368  2184000\n",
      "3  3969  1984500\n",
      "4  6142  3071000\n",
      "5  7912  3456000\n",
      "   Area   Price\n",
      "0  4720  Medium\n",
      "1  2430     Low\n",
      "2  4368  Medium\n",
      "3  3969     Low\n",
      "4  6142    High\n",
      "5  7912    High\n"
     ]
    }
   ],
   "source": [
    "import numpy as np\n",
    "import pandas as pd\n",
    "appartment_area = [4720,2430,4368,3969,6142,7912]\n",
    "appartment_price = [2360000,1215000,2184000,1984500,3071000,3456000]\n",
    "df = pd.DataFrame({'Area':appartment_area,'Price':appartment_price})\n",
    "print(df)\n",
    "df['Price'] = np.where(df['Price']>3000000,'High',np.where(df['Price']<2000000,'Low','Medium'))\n",
    "print(df)"
   ]
  },
  {
   "cell_type": "code",
   "execution_count": 1,
   "metadata": {},
   "outputs": [
    {
     "name": "stdout",
     "output_type": "stream",
     "text": [
      "     cgpa  package\n",
      "0    6.89     3.26\n",
      "1    5.12     1.98\n",
      "2    7.82     3.25\n",
      "3    7.42     3.67\n",
      "4    6.94     3.57\n",
      "..    ...      ...\n",
      "195  6.93     2.46\n",
      "196  5.89     2.57\n",
      "197  7.21     3.24\n",
      "198  7.63     3.96\n",
      "199  6.22     2.33\n",
      "\n",
      "[200 rows x 2 columns]\n"
     ]
    },
    {
     "data": {
      "image/png": "[encoded data removed]",
      "text/plain": [
       "<Figure size 432x288 with 1 Axes>"
      ]
     },
     "metadata": {
      "needs_background": "light"
     },
     "output_type": "display_data"
    },
    {
     "name": "stdout",
     "output_type": "stream",
     "text": [
      "<class 'pandas.core.frame.DataFrame'>\n",
      "<class 'pandas.core.series.Series'>\n",
      "(160, 1)\n",
      "(40, 1)\n",
      "(160,)\n",
      "(40,)\n"
     ]
    }
   ],
   "source": [
    "import pandas as pd\n",
    "import matplotlib.pyplot as plt\n",
    "from sklearn.model_selection import train_test_split\n",
    "df = pd.read_csv(\"Book1.csv\")\n",
    "print(df)\n",
    "plt.scatter(df['cgpa'],df['package'])\n",
    "plt.show()\n",
    "X = df.iloc[:,0:1]\n",
    "Y = df.iloc[:,-1]\n",
    "print(type(X))\n",
    "print(type(Y))\n",
    "X_train,X_test,Y_train,Y_test = train_test_split(X,Y,test_size=0.2,random_state=10)\n",
    "print(X_train.shape)\n",
    "print(X_test.shape)\n",
    "print(Y_train.shape)\n",
    "print(Y_test.shape)"
   ]
  },
  {
   "cell_type": "code",
   "execution_count": 49,
   "metadata": {},
   "outputs": [
    {
     "name": "stdout",
     "output_type": "stream",
     "text": [
      "[0.58622321] -1.0803901371318942\n",
      "mse = 0.10351480752583134\n",
      "r2 score = 0.6462843124730797\n",
      "[3.72077798]\n"
     ]
    }
   ],
   "source": [
    "from sklearn.model_selection import train_test_split\n",
    "from sklearn.linear_model import LinearRegression\n",
    "from sklearn.metrics import mean_squared_error,r2_score \n",
    "import pandas as pd\n",
    "df = pd.read_csv(\"Book1.csv\")\n",
    "x = df.iloc[:,0:1]\n",
    "y = df.iloc[:,-1]\n",
    "x_train,x_test,y_train,y_test = train_test_split(x,y,test_size=0.2,random_state = 40)\n",
    "lr = LinearRegression()\n",
    "lr.fit(x_train,y_train)\n",
    "y_pred = lr.predict(x_test)\n",
    "m = lr.coef_\n",
    "c = lr.intercept_\n",
    "print(m,c)\n",
    "print(\"mse =\",mean_squared_error(y_test,y_pred))\n",
    "print(\"r2 score =\",r2_score(y_test,y_pred))\n",
    "my_pkg = lr.predict([[8.19]])\n",
    "print(my_pkg)"
   ]
  },
  {
   "cell_type": "code",
   "execution_count": 51,
   "metadata": {},
   "outputs": [
    {
     "name": "stdout",
     "output_type": "stream",
     "text": [
      "0.8604407387366203\n"
     ]
    }
   ],
   "source": [
    "from sklearn.model_selection import train_test_split\n",
    "from sklearn.linear_model import LinearRegression\n",
    "from sklearn.metrics import mean_squared_error,r2_score \n",
    "import pandas as pd\n",
    "df = pd.read_csv(\"Book1.csv\")\n",
    "x = df.iloc[:,0:1]\n",
    "y = df.iloc[:,-1]\n",
    "maxr = rs = 0\n",
    "for i in range(101):\n",
    "    x_train,x_test,y_train,y_test = train_test_split(x,y,test_size=0.2,random_state = i)\n",
    "    lr = LinearRegression()\n",
    "    lr.fit(x_train,y_train)\n",
    "    y_pred = lr.predict(x_test)\n",
    "    m = lr.coef_\n",
    "    c = lr.intercept_\n",
    "    maxr = max(maxr,r2_score(y_test,y_pred))\n",
    "print(maxr)"
   ]
  },
  {
   "cell_type": "code",
   "execution_count": 14,
   "metadata": {},
   "outputs": [
    {
     "name": "stdout",
     "output_type": "stream",
     "text": [
      "[-0.01291257] 35.61976609130507\n",
      "mse = 0.034169564591521116\n",
      "r2 score = 0.7278530253772657\n"
     ]
    }
   ],
   "source": [
    "from sklearn.model_selection import train_test_split\n",
    "from sklearn.linear_model import LinearRegression\n",
    "from sklearn.metrics import mean_squared_error,r2_score \n",
    "import pandas as pd\n",
    "df = pd.read_csv(\"olympic100m.csv\")\n",
    "x = df.iloc[:,0:1]\n",
    "y = df.iloc[:,-1]\n",
    "x_train,x_test,y_train,y_test = train_test_split(x,y,test_size=0.2,random_state = 40)\n",
    "lr = LinearRegression()\n",
    "lr.fit(x_train,y_train)\n",
    "y_pred = lr.predict(x_test)\n",
    "m = lr.coef_\n",
    "c = lr.intercept_\n",
    "print(m,c)\n",
    "print(\"mse =\",mean_squared_error(y_test,y_pred))\n",
    "print(\"r2 score =\",r2_score(y_test,y_pred))"
   ]
  },
  {
   "cell_type": "code",
   "execution_count": 31,
   "metadata": {},
   "outputs": [
    {
     "name": "stdout",
     "output_type": "stream",
     "text": [
      "    Car_Name  Year  Selling_Price  Present_Price  Kms_Driven Fuel_Type  \\\n",
      "0       ritz  2014           3.35           5.59       27000    Petrol   \n",
      "1        sx4  2013           4.75           9.54       43000    Diesel   \n",
      "2       ciaz  2017           7.25           9.85        6900    Petrol   \n",
      "3    wagon r  2011           2.85           4.15        5200    Petrol   \n",
      "4      swift  2014           4.60           6.87       42450    Diesel   \n",
      "..       ...   ...            ...            ...         ...       ...   \n",
      "296     city  2016           9.50          11.60       33988    Diesel   \n",
      "297     brio  2015           4.00           5.90       60000    Petrol   \n",
      "298     city  2009           3.35          11.00       87934    Petrol   \n",
      "299     city  2017          11.50          12.50        9000    Diesel   \n",
      "300     brio  2016           5.30           5.90        5464    Petrol   \n",
      "\n",
      "    Seller_Type Transmission  Owner  \n",
      "0        Dealer       Manual      0  \n",
      "1        Dealer       Manual      0  \n",
      "2        Dealer       Manual      0  \n",
      "3        Dealer       Manual      0  \n",
      "4        Dealer       Manual      0  \n",
      "..          ...          ...    ...  \n",
      "296      Dealer       Manual      0  \n",
      "297      Dealer       Manual      0  \n",
      "298      Dealer       Manual      0  \n",
      "299      Dealer       Manual      0  \n",
      "300      Dealer       Manual      0  \n",
      "\n",
      "[301 rows x 9 columns]\n",
      "     Age  Kms_Driven  Owner  Present_Price  Fuel_Type_Diesel  \\\n",
      "0     11       27000      0           5.59                 0   \n",
      "1     12       43000      0           9.54                 1   \n",
      "2      8        6900      0           9.85                 0   \n",
      "3     14        5200      0           4.15                 0   \n",
      "4     11       42450      0           6.87                 1   \n",
      "..   ...         ...    ...            ...               ...   \n",
      "296    9       33988      0          11.60                 1   \n",
      "297   10       60000      0           5.90                 0   \n",
      "298   16       87934      0          11.00                 0   \n",
      "299    8        9000      0          12.50                 1   \n",
      "300    9        5464      0           5.90                 0   \n",
      "\n",
      "     Fuel_Type_Petrol  Seller_Type_Individual  Transmission_Manual  \n",
      "0                   1                       0                    1  \n",
      "1                   0                       0                    1  \n",
      "2                   1                       0                    1  \n",
      "3                   1                       0                    1  \n",
      "4                   0                       0                    1  \n",
      "..                ...                     ...                  ...  \n",
      "296                 0                       0                    1  \n",
      "297                 1                       0                    1  \n",
      "298                 1                       0                    1  \n",
      "299                 0                       0                    1  \n",
      "300                 1                       0                    1  \n",
      "\n",
      "[301 rows x 8 columns]\n",
      "[-4.57912706e-01 -6.60375581e-06 -5.43130005e-01  4.31433574e-01\n",
      "  2.25832227e+00  1.76941333e-01 -9.95263949e-01 -1.66970586e+00] 8.021362466130082\n",
      "mse = 2.0427921734571184\n",
      "r2 score = 0.8774476164216506\n"
     ]
    }
   ],
   "source": [
    "from sklearn.model_selection import train_test_split\n",
    "from sklearn.linear_model import LinearRegression\n",
    "from sklearn.metrics import mean_squared_error,r2_score \n",
    "import pandas as pd\n",
    "df = pd.read_csv(\"car data.csv\")\n",
    "print(df)\n",
    "df['Age'] = 2025-df['Year']\n",
    "x = df[['Age','Kms_Driven','Fuel_Type','Seller_Type','Transmission','Owner','Present_Price']]\n",
    "y = df['Selling_Price']\n",
    "x = pd.get_dummies(x,drop_first = True)\n",
    "print(x)\n",
    "x_train,x_test,y_train,y_test = train_test_split(x,y,test_size = 0.2,random_state=40)\n",
    "lr = LinearRegression()\n",
    "lr.fit(x_train,y_train)\n",
    "y_pred = lr.predict(x_test)\n",
    "m = lr.coef_\n",
    "c = lr.intercept_\n",
    "print(m,c)\n",
    "print(\"mse =\",mean_squared_error(y_test,y_pred))\n",
    "print(\"r2 score =\",r2_score(y_test,y_pred))"
   ]
  },
  {
   "cell_type": "code",
   "execution_count": 42,
   "metadata": {},
   "outputs": [
    {
     "name": "stdout",
     "output_type": "stream",
     "text": [
      "        TV  Radio  Newspaper  Sales\n",
      "0    230.1   37.8       69.2   22.1\n",
      "1     44.5   39.3       45.1   10.4\n",
      "2     17.2   45.9       69.3   12.0\n",
      "3    151.5   41.3       58.5   16.5\n",
      "4    180.8   10.8       58.4   17.9\n",
      "..     ...    ...        ...    ...\n",
      "195   38.2    3.7       13.8    7.6\n",
      "196   94.2    4.9        8.1   14.0\n",
      "197  177.0    9.3        6.4   14.8\n",
      "198  283.6   42.0       66.2   25.5\n",
      "199  232.1    8.6        8.7   18.4\n",
      "\n",
      "[200 rows x 4 columns]\n",
      "        TV  Radio  Newspaper\n",
      "0    230.1   37.8       69.2\n",
      "1     44.5   39.3       45.1\n",
      "2     17.2   45.9       69.3\n",
      "3    151.5   41.3       58.5\n",
      "4    180.8   10.8       58.4\n",
      "..     ...    ...        ...\n",
      "195   38.2    3.7       13.8\n",
      "196   94.2    4.9        8.1\n",
      "197  177.0    9.3        6.4\n",
      "198  283.6   42.0       66.2\n",
      "199  232.1    8.6        8.7\n",
      "\n",
      "[200 rows x 3 columns]\n",
      "[ 0.053514    0.11565901 -0.00517342] 4.842276855109867\n",
      "mse = 4.332995687070389\n",
      "r2 score = 0.8477283412895041\n"
     ]
    }
   ],
   "source": [
    "# create a multiple linear regression model and find r2 score and mse for advertising.csv file.\n",
    "# In that model can predict sales of any company depending on advertising like tv,radio and newspaper.\n",
    "from sklearn.model_selection import train_test_split\n",
    "from sklearn.linear_model import LinearRegression\n",
    "from sklearn.metrics import mean_squared_error,r2_score \n",
    "import pandas as pd\n",
    "df = pd.read_csv(\"advertising.csv\")\n",
    "print(df)\n",
    "x = df[['TV','Radio','Newspaper']]\n",
    "y = df['Sales']\n",
    "print(x)\n",
    "x_train,x_test,y_train,y_test = train_test_split(x,y,test_size = 0.2,random_state=40)\n",
    "lr = LinearRegression()\n",
    "lr.fit(x_train,y_train)\n",
    "y_pred = lr.predict(x_test)\n",
    "m = lr.coef_\n",
    "c = lr.intercept_\n",
    "print(m,c)\n",
    "print(\"mse =\",mean_squared_error(y_test,y_pred))\n",
    "print(\"r2 score =\",r2_score(y_test,y_pred))"
   ]
  },
  {
   "cell_type": "code",
   "execution_count": 56,
   "metadata": {},
   "outputs": [
    {
     "name": "stdout",
     "output_type": "stream",
     "text": [
      "   Temp  Pressure\n",
      "0     0    0.0002\n",
      "1    20    0.0012\n",
      "2    40    0.0060\n",
      "3    60    0.0300\n",
      "4    80    0.0900\n",
      "5   100    0.2700\n"
     ]
    },
    {
     "data": {
      "image/png": "[encoded data removed]",
      "text/plain": [
       "<Figure size 432x288 with 1 Axes>"
      ]
     },
     "metadata": {
      "needs_background": "light"
     },
     "output_type": "display_data"
    }
   ],
   "source": [
    "# Polynomial regression\n",
    "# y = b0+b1x+b2x^2....bnx^n+E\n",
    "# y = dependent var\n",
    "# x = independent var\n",
    "# E = errors\n",
    "# b = coefficient of polynomial\n",
    "# n = degree of polynomial\n",
    "import pandas as pd\n",
    "from sklearn.linear_model import LinearRegression\n",
    "from sklearn.preprocessing import PolynomialFeatures\n",
    "import matplotlib.pyplot as plt\n",
    "df = pd.DataFrame({'Temp':[0,20,40,60,80,100],'Pressure':[0.0002,0.0012,0.0060,0.0300,0.0900,0.2700]})\n",
    "print(df)\n",
    "x = df.iloc[:,0:1]\n",
    "y = df.iloc[:,-1]\n",
    "poly = PolynomialFeatures(degree=3)\n",
    "model_poly = poly.fit_transform(x)\n",
    "lr = LinearRegression()\n",
    "lr.fit(model_poly,y)\n",
    "plt.scatter(x,y)\n",
    "plt.plot(x,lr.predict(model_poly))\n",
    "plt.show()"
   ]
  },
  {
   "cell_type": "code",
   "execution_count": 6,
   "metadata": {},
   "outputs": [
    {
     "name": "stdout",
     "output_type": "stream",
     "text": [
      "   Temp  Pressure\n",
      "0     0    0.0002\n",
      "1    20    0.0012\n",
      "2    40    0.0060\n",
      "3    60    0.0300\n",
      "4    80    0.0900\n",
      "5   100    0.2700\n",
      "[0.11307333]\n",
      "[0.05120625]\n"
     ]
    }
   ],
   "source": [
    "import pandas as pd\n",
    "from sklearn.linear_model import LinearRegression\n",
    "from sklearn.preprocessing import PolynomialFeatures\n",
    "import matplotlib.pyplot as plt\n",
    "df = pd.DataFrame({'Temp':[0,20,40,60,80,100],'Pressure':[0.0002,0.0012,0.0060,0.0300,0.0900,0.2700]})\n",
    "print(df)\n",
    "x = df.iloc[:,0:1]\n",
    "y = df.iloc[:,-1]\n",
    "lr = LinearRegression()\n",
    "lr.fit(x,y)\n",
    "x_t = [[70]]\n",
    "print(lr.predict(x_t))\n",
    "poly = PolynomialFeatures(degree = 3)\n",
    "model = poly.fit_transform(x)\n",
    "lr.fit(model,y)\n",
    "print(lr.predict(poly.fit_transform(x_t)))"
   ]
  },
  {
   "cell_type": "code",
   "execution_count": 15,
   "metadata": {},
   "outputs": [
    {
     "name": "stdout",
     "output_type": "stream",
     "text": [
      "MSE train = 9.337610943037559 , R2 score train = 0.6646551612677899\n"
     ]
    }
   ],
   "source": [
    "from sklearn.model_selection import train_test_split\n",
    "from sklearn.linear_model import LinearRegression\n",
    "from sklearn.metrics import mean_squared_error,r2_score\n",
    "from sklearn.preprocessing import PolynomialFeatures\n",
    "import matplotlib.pyplot as plt\n",
    "import pandas as pd\n",
    "df = pd.read_csv(\"car data.csv\")\n",
    "# print(df)\n",
    "df['Age'] = 2025-df['Year']\n",
    "x = df[['Age','Kms_Driven','Fuel_Type','Seller_Type','Transmission','Owner','Present_Price']]\n",
    "y = df['Selling_Price']\n",
    "x = pd.get_dummies(x,drop_first = True)\n",
    "# print(x)\n",
    "x_train,x_test,y_train,y_test = train_test_split(x,y,test_size = 0.2,random_state=40)\n",
    "lr = LinearRegression()\n",
    "poly = PolynomialFeatures(degree=3)\n",
    "x_train_poly = poly.fit_transform(x_train)\n",
    "x_test_poly = poly.fit_transform(x_test)\n",
    "lr.fit(x_train_poly,y_train)\n",
    "y_train_pred = lr.predict(x_train_poly)\n",
    "y_test_pred = lr.predict(x_test_poly)\n",
    "mse_train = mean_squared_error(y_train,y_train_pred)\n",
    "r2_train = r2_score(y_train,y_train_pred)\n",
    "print(\"MSE train =\",mse_train,\", R2 score train =\",r2_train)"
   ]
  },
  {
   "cell_type": "code",
   "execution_count": 25,
   "metadata": {},
   "outputs": [
    {
     "name": "stdout",
     "output_type": "stream",
     "text": [
      "R2_score 0.8934331053661403\n",
      "Mse 0.02991709022278933\n",
      "(205, 63)\n"
     ]
    }
   ],
   "source": [
    "import pandas as pd\n",
    "from sklearn.linear_model import LinearRegression\n",
    "from sklearn.model_selection import train_test_split\n",
    "import matplotlib.pyplot as plt\n",
    "from sklearn.metrics import mean_squared_error , r2_score\n",
    "import numpy as np\n",
    "\n",
    "df = pd.read_csv('CarPrice_Assignment.csv')\n",
    "# df.info()\n",
    "scale_col = [[\"wheelbase\",\"carlength\",\"carwidth\",\"carheight\",\"curbweight\",\"enginesize\",\"boreratio\",'stroke','compressionratio',\"horsepower\",\"peakrpm\",\"citympg\",\"highwaympg\",\"price\"]]\n",
    "for c in scale_col:\n",
    "    df[c]=np.log(df[c])\n",
    "# display(df)\n",
    "company_names = []\n",
    "for car_name in df[\"CarName\"] :\n",
    "    company_name = car_name.split(\" \")[0]\n",
    "    company_names.append(company_name)\n",
    "df['Company'] = company_names\n",
    "df[\"Company\"].unique()\n",
    "df.Company.replace(\"maxda\",\"mazda\",inplace=True)\n",
    "df.Company.replace(\"Nissan\",\"nissan\",inplace=True)\n",
    "df.Company.replace(\"toyouta\",\"toyota\",inplace=True)\n",
    "df.Company.replace(\"vokswagen\",\"volkswagen\",inplace=True)\n",
    "df.Company.replace(\"vw\",\"volkswagen\",inplace=True)\n",
    "df.Company.replace(\"porcshce\",\"porsche\",inplace=True)\n",
    "df[\"Company\"].unique()\n",
    "df.drop(columns=['car_ID','CarName',\"symboling\"],inplace=True)\n",
    "categorial_col = [\"Company\",\"fueltype\",\"aspiration\",\"doornumber\",\"carbody\",\"drivewheel\",\"enginelocation\",\"enginetype\",\"fuelsystem\",\"cylindernumber\"]\n",
    "df = pd.get_dummies(df,prefix= categorial_col,columns=categorial_col,drop_first=True)\n",
    "x = df.drop(columns=['price'])\n",
    "y = df['price']\n",
    "x_train,x_test,y_train,y_test = train_test_split(x,y,test_size=0.3,random_state=3)\n",
    "\n",
    "lr=LinearRegression()\n",
    "\n",
    "lr.fit(x_train,y_train)\n",
    "\n",
    "y_pred = lr.predict(x_test)\n",
    "\n",
    "r2 = r2_score(y_test,y_pred)\n",
    "\n",
    "print(\"R2_score\",r2_score(y_test,y_pred))\n",
    "print(\"Mse\",mean_squared_error(y_test,y_pred))\n",
    "print(x.shape)"
   ]
  },
  {
   "cell_type": "code",
   "execution_count": null,
   "metadata": {},
   "outputs": [],
   "source": []
  }
 ],
 "metadata": {
  "kernelspec": {
   "display_name": "Python 3",
   "language": "python",
   "name": "python3"
  },
  "language_info": {
   "codemirror_mode": {
    "name": "ipython",
    "version": 3
   },
   "file_extension": ".py",
   "mimetype": "text/x-python",
   "name": "python",
   "nbconvert_exporter": "python",
   "pygments_lexer": "ipython3",
   "version": "3.8.5"
  }
 },
 "nbformat": 4,
 "nbformat_minor": 4
}
